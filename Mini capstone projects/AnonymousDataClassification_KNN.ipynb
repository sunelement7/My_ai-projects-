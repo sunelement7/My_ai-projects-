{
 "cells": [
  {
   "cell_type": "markdown",
   "metadata": {},
   "source": [
    "## Background\n",
    "\n",
    "This project will explore a anonymous data set. While the meaning of each column is not known, a simple K Nearest Neighbors algorithm will be applied to quickly train the model that can classify the target variables."
   ]
  },
  {
   "cell_type": "code",
   "execution_count": 1,
   "metadata": {},
   "outputs": [],
   "source": [
    "import numpy as np\n",
    "import pandas as pd\n",
    "import matplotlib.pyplot as plt\n",
    "import seaborn as sns\n",
    "%matplotlib inline"
   ]
  },
  {
   "cell_type": "markdown",
   "metadata": {},
   "source": [
    "## Data exploration"
   ]
  },
  {
   "cell_type": "code",
   "execution_count": 2,
   "metadata": {},
   "outputs": [],
   "source": [
    "df = pd.read_csv('Data/KNN_Project_Data')"
   ]
  },
  {
   "cell_type": "code",
   "execution_count": 3,
   "metadata": {},
   "outputs": [
    {
     "name": "stdout",
     "output_type": "stream",
     "text": [
      "<class 'pandas.core.frame.DataFrame'>\n",
      "RangeIndex: 1000 entries, 0 to 999\n",
      "Data columns (total 11 columns):\n",
      "XVPM            1000 non-null float64\n",
      "GWYH            1000 non-null float64\n",
      "TRAT            1000 non-null float64\n",
      "TLLZ            1000 non-null float64\n",
      "IGGA            1000 non-null float64\n",
      "HYKR            1000 non-null float64\n",
      "EDFS            1000 non-null float64\n",
      "GUUB            1000 non-null float64\n",
      "MGJM            1000 non-null float64\n",
      "JHZC            1000 non-null float64\n",
      "TARGET CLASS    1000 non-null int64\n",
      "dtypes: float64(10), int64(1)\n",
      "memory usage: 86.1 KB\n"
     ]
    }
   ],
   "source": [
    "df.info()"
   ]
  },
  {
   "cell_type": "code",
   "execution_count": 4,
   "metadata": {},
   "outputs": [
    {
     "data": {
      "text/plain": [
       "XVPM            False\n",
       "GWYH            False\n",
       "TRAT            False\n",
       "TLLZ            False\n",
       "IGGA            False\n",
       "HYKR            False\n",
       "EDFS            False\n",
       "GUUB            False\n",
       "MGJM            False\n",
       "JHZC            False\n",
       "TARGET CLASS    False\n",
       "dtype: bool"
      ]
     },
     "execution_count": 4,
     "metadata": {},
     "output_type": "execute_result"
    }
   ],
   "source": [
    "df.isnull().any()"
   ]
  },
  {
   "cell_type": "code",
   "execution_count": 5,
   "metadata": {
    "scrolled": true
   },
   "outputs": [
    {
     "data": {
      "text/html": [
       "<div>\n",
       "<style scoped>\n",
       "    .dataframe tbody tr th:only-of-type {\n",
       "        vertical-align: middle;\n",
       "    }\n",
       "\n",
       "    .dataframe tbody tr th {\n",
       "        vertical-align: top;\n",
       "    }\n",
       "\n",
       "    .dataframe thead th {\n",
       "        text-align: right;\n",
       "    }\n",
       "</style>\n",
       "<table border=\"1\" class=\"dataframe\">\n",
       "  <thead>\n",
       "    <tr style=\"text-align: right;\">\n",
       "      <th></th>\n",
       "      <th>XVPM</th>\n",
       "      <th>GWYH</th>\n",
       "      <th>TRAT</th>\n",
       "      <th>TLLZ</th>\n",
       "      <th>IGGA</th>\n",
       "      <th>HYKR</th>\n",
       "      <th>EDFS</th>\n",
       "      <th>GUUB</th>\n",
       "      <th>MGJM</th>\n",
       "      <th>JHZC</th>\n",
       "      <th>TARGET CLASS</th>\n",
       "    </tr>\n",
       "  </thead>\n",
       "  <tbody>\n",
       "    <tr>\n",
       "      <th>0</th>\n",
       "      <td>1636.670614</td>\n",
       "      <td>817.988525</td>\n",
       "      <td>2565.995189</td>\n",
       "      <td>358.347163</td>\n",
       "      <td>550.417491</td>\n",
       "      <td>1618.870897</td>\n",
       "      <td>2147.641254</td>\n",
       "      <td>330.727893</td>\n",
       "      <td>1494.878631</td>\n",
       "      <td>845.136088</td>\n",
       "      <td>0</td>\n",
       "    </tr>\n",
       "    <tr>\n",
       "      <th>1</th>\n",
       "      <td>1013.402760</td>\n",
       "      <td>577.587332</td>\n",
       "      <td>2644.141273</td>\n",
       "      <td>280.428203</td>\n",
       "      <td>1161.873391</td>\n",
       "      <td>2084.107872</td>\n",
       "      <td>853.404981</td>\n",
       "      <td>447.157619</td>\n",
       "      <td>1193.032521</td>\n",
       "      <td>861.081809</td>\n",
       "      <td>1</td>\n",
       "    </tr>\n",
       "    <tr>\n",
       "      <th>2</th>\n",
       "      <td>1300.035501</td>\n",
       "      <td>820.518697</td>\n",
       "      <td>2025.854469</td>\n",
       "      <td>525.562292</td>\n",
       "      <td>922.206261</td>\n",
       "      <td>2552.355407</td>\n",
       "      <td>818.676686</td>\n",
       "      <td>845.491492</td>\n",
       "      <td>1968.367513</td>\n",
       "      <td>1647.186291</td>\n",
       "      <td>1</td>\n",
       "    </tr>\n",
       "    <tr>\n",
       "      <th>3</th>\n",
       "      <td>1059.347542</td>\n",
       "      <td>1066.866418</td>\n",
       "      <td>612.000041</td>\n",
       "      <td>480.827789</td>\n",
       "      <td>419.467495</td>\n",
       "      <td>685.666983</td>\n",
       "      <td>852.867810</td>\n",
       "      <td>341.664784</td>\n",
       "      <td>1154.391368</td>\n",
       "      <td>1450.935357</td>\n",
       "      <td>0</td>\n",
       "    </tr>\n",
       "    <tr>\n",
       "      <th>4</th>\n",
       "      <td>1018.340526</td>\n",
       "      <td>1313.679056</td>\n",
       "      <td>950.622661</td>\n",
       "      <td>724.742174</td>\n",
       "      <td>843.065903</td>\n",
       "      <td>1370.554164</td>\n",
       "      <td>905.469453</td>\n",
       "      <td>658.118202</td>\n",
       "      <td>539.459350</td>\n",
       "      <td>1899.850792</td>\n",
       "      <td>0</td>\n",
       "    </tr>\n",
       "  </tbody>\n",
       "</table>\n",
       "</div>"
      ],
      "text/plain": [
       "          XVPM         GWYH         TRAT        TLLZ         IGGA  \\\n",
       "0  1636.670614   817.988525  2565.995189  358.347163   550.417491   \n",
       "1  1013.402760   577.587332  2644.141273  280.428203  1161.873391   \n",
       "2  1300.035501   820.518697  2025.854469  525.562292   922.206261   \n",
       "3  1059.347542  1066.866418   612.000041  480.827789   419.467495   \n",
       "4  1018.340526  1313.679056   950.622661  724.742174   843.065903   \n",
       "\n",
       "          HYKR         EDFS        GUUB         MGJM         JHZC  \\\n",
       "0  1618.870897  2147.641254  330.727893  1494.878631   845.136088   \n",
       "1  2084.107872   853.404981  447.157619  1193.032521   861.081809   \n",
       "2  2552.355407   818.676686  845.491492  1968.367513  1647.186291   \n",
       "3   685.666983   852.867810  341.664784  1154.391368  1450.935357   \n",
       "4  1370.554164   905.469453  658.118202   539.459350  1899.850792   \n",
       "\n",
       "   TARGET CLASS  \n",
       "0             0  \n",
       "1             1  \n",
       "2             1  \n",
       "3             0  \n",
       "4             0  "
      ]
     },
     "execution_count": 5,
     "metadata": {},
     "output_type": "execute_result"
    }
   ],
   "source": [
    "df.head()"
   ]
  },
  {
   "cell_type": "markdown",
   "metadata": {},
   "source": [
    "All data is numeric and contains no missing values."
   ]
  },
  {
   "cell_type": "markdown",
   "metadata": {},
   "source": [
    "## Train and Test split"
   ]
  },
  {
   "cell_type": "code",
   "execution_count": 6,
   "metadata": {},
   "outputs": [],
   "source": [
    "from sklearn.model_selection import train_test_split\n",
    "X = df.drop('TARGET CLASS',axis=1)\n",
    "y = df['TARGET CLASS']\n",
    "\n",
    "X_train, X_test, y_train, y_test = train_test_split(X,y,random_state=100)"
   ]
  },
  {
   "cell_type": "markdown",
   "metadata": {},
   "source": [
    "## Preprocessing: standarization"
   ]
  },
  {
   "cell_type": "code",
   "execution_count": 7,
   "metadata": {},
   "outputs": [],
   "source": [
    "from sklearn.preprocessing import StandardScaler"
   ]
  },
  {
   "cell_type": "code",
   "execution_count": 8,
   "metadata": {},
   "outputs": [],
   "source": [
    "scaler = StandardScaler().fit(X_train)\n",
    "X_train_scaled = scaler.transform(X_train)\n",
    "X_test_scaled = scaler.transform(X_test)"
   ]
  },
  {
   "cell_type": "markdown",
   "metadata": {},
   "source": [
    "## 1. Model training: KNN - manual hyperparameter optimization"
   ]
  },
  {
   "cell_type": "code",
   "execution_count": 9,
   "metadata": {},
   "outputs": [
    {
     "data": {
      "image/png": "[encoded data removed]",
      "text/plain": [
       "<Figure size 720x432 with 1 Axes>"
      ]
     },
     "metadata": {
      "needs_background": "light"
     },
     "output_type": "display_data"
    }
   ],
   "source": [
    "from sklearn.neighbors import KNeighborsClassifier\n",
    "\n",
    "error_rate = []\n",
    "error_rate_train = []\n",
    "\n",
    "for i in range(1,60):\n",
    "    knn = KNeighborsClassifier(n_neighbors=i)\n",
    "    knn.fit(X_train_scaled,y_train)\n",
    "    pred_i = knn.predict(X_test_scaled)\n",
    "    error_rate.append(np.mean(pred_i != y_test))\n",
    "    \n",
    "    knn_train = KNeighborsClassifier(n_neighbors=i)\n",
    "    knn_train.fit(X_train_scaled,y_train)\n",
    "    knn_train_pred_i = knn_train.predict(X_train_scaled)\n",
    "    error_rate_train.append(np.mean(knn_train_pred_i != y_train))\n",
    "\n",
    "    \n",
    "plt.figure(figsize=(10,6))\n",
    "plt.plot(list(range(1,60)),error_rate,marker='o',markersize=8,label='test error',c='red')\n",
    "plt.plot(list(range(1,60)),error_rate_train,marker='x',markersize=8,label='train error')\n",
    "plt.xlabel('K',fontsize=12)\n",
    "plt.title('Error rate',fontsize=15)\n",
    "plt.legend()\n",
    "plt.show()"
   ]
  },
  {
   "cell_type": "code",
   "execution_count": 10,
   "metadata": {},
   "outputs": [
    {
     "name": "stdout",
     "output_type": "stream",
     "text": [
      "Best n_neig: 23\n",
      "Minimum loss attained: 0.1480\n"
     ]
    }
   ],
   "source": [
    "print('Best n_neig: {}'.format(np.argmin(error_rate)+1))\n",
    "print('Minimum loss attained: {:.4f}'.format(np.min(error_rate)))"
   ]
  },
  {
   "cell_type": "markdown",
   "metadata": {},
   "source": [
    "### KNN model with K = 23"
   ]
  },
  {
   "cell_type": "code",
   "execution_count": 11,
   "metadata": {},
   "outputs": [],
   "source": [
    "knn = KNeighborsClassifier(n_neighbors=23).fit(X_train_scaled,y_train)"
   ]
  },
  {
   "cell_type": "markdown",
   "metadata": {},
   "source": [
    "### Predictions and Evaluations"
   ]
  },
  {
   "cell_type": "code",
   "execution_count": 12,
   "metadata": {},
   "outputs": [],
   "source": [
    "from sklearn.metrics import classification_report,confusion_matrix\n",
    "y_predict = knn.predict(X_test_scaled)"
   ]
  },
  {
   "cell_type": "code",
   "execution_count": 13,
   "metadata": {},
   "outputs": [
    {
     "data": {
      "text/html": [
       "<div>\n",
       "<style scoped>\n",
       "    .dataframe tbody tr th:only-of-type {\n",
       "        vertical-align: middle;\n",
       "    }\n",
       "\n",
       "    .dataframe tbody tr th {\n",
       "        vertical-align: top;\n",
       "    }\n",
       "\n",
       "    .dataframe thead th {\n",
       "        text-align: right;\n",
       "    }\n",
       "</style>\n",
       "<table border=\"1\" class=\"dataframe\">\n",
       "  <thead>\n",
       "    <tr style=\"text-align: right;\">\n",
       "      <th></th>\n",
       "      <th>Predicted 0</th>\n",
       "      <th>Predicted 1</th>\n",
       "    </tr>\n",
       "  </thead>\n",
       "  <tbody>\n",
       "    <tr>\n",
       "      <th>True 0</th>\n",
       "      <td>110</td>\n",
       "      <td>26</td>\n",
       "    </tr>\n",
       "    <tr>\n",
       "      <th>True 1</th>\n",
       "      <td>11</td>\n",
       "      <td>103</td>\n",
       "    </tr>\n",
       "  </tbody>\n",
       "</table>\n",
       "</div>"
      ],
      "text/plain": [
       "        Predicted 0  Predicted 1\n",
       "True 0          110           26\n",
       "True 1           11          103"
      ]
     },
     "execution_count": 13,
     "metadata": {},
     "output_type": "execute_result"
    }
   ],
   "source": [
    "pd.DataFrame(confusion_matrix(y_test,y_predict),index=['True 0','True 1'],\n",
    "             columns=['Predicted 0','Predicted 1'])"
   ]
  },
  {
   "cell_type": "code",
   "execution_count": 14,
   "metadata": {
    "scrolled": true
   },
   "outputs": [
    {
     "name": "stdout",
     "output_type": "stream",
     "text": [
      "              precision    recall  f1-score   support\n",
      "\n",
      "           0       0.91      0.81      0.86       136\n",
      "           1       0.80      0.90      0.85       114\n",
      "\n",
      "    accuracy                           0.85       250\n",
      "   macro avg       0.85      0.86      0.85       250\n",
      "weighted avg       0.86      0.85      0.85       250\n",
      "\n"
     ]
    }
   ],
   "source": [
    "print(classification_report(y_test,y_predict))"
   ]
  },
  {
   "cell_type": "markdown",
   "metadata": {},
   "source": [
    "### KNN model with K = 1 (for comparison)"
   ]
  },
  {
   "cell_type": "code",
   "execution_count": 15,
   "metadata": {},
   "outputs": [
    {
     "data": {
      "text/html": [
       "<div>\n",
       "<style scoped>\n",
       "    .dataframe tbody tr th:only-of-type {\n",
       "        vertical-align: middle;\n",
       "    }\n",
       "\n",
       "    .dataframe tbody tr th {\n",
       "        vertical-align: top;\n",
       "    }\n",
       "\n",
       "    .dataframe thead th {\n",
       "        text-align: right;\n",
       "    }\n",
       "</style>\n",
       "<table border=\"1\" class=\"dataframe\">\n",
       "  <thead>\n",
       "    <tr style=\"text-align: right;\">\n",
       "      <th></th>\n",
       "      <th>Predicted 0</th>\n",
       "      <th>Predicted 1</th>\n",
       "    </tr>\n",
       "  </thead>\n",
       "  <tbody>\n",
       "    <tr>\n",
       "      <th>True 0</th>\n",
       "      <td>101</td>\n",
       "      <td>35</td>\n",
       "    </tr>\n",
       "    <tr>\n",
       "      <th>True 1</th>\n",
       "      <td>24</td>\n",
       "      <td>90</td>\n",
       "    </tr>\n",
       "  </tbody>\n",
       "</table>\n",
       "</div>"
      ],
      "text/plain": [
       "        Predicted 0  Predicted 1\n",
       "True 0          101           35\n",
       "True 1           24           90"
      ]
     },
     "execution_count": 15,
     "metadata": {},
     "output_type": "execute_result"
    }
   ],
   "source": [
    "knn = KNeighborsClassifier(n_neighbors=1).fit(X_train_scaled,y_train)\n",
    "y_predict = knn.predict(X_test_scaled)\n",
    "pd.DataFrame(confusion_matrix(y_test,y_predict),index=['True 0','True 1'],\n",
    "             columns=['Predicted 0','Predicted 1'])"
   ]
  },
  {
   "cell_type": "code",
   "execution_count": 16,
   "metadata": {},
   "outputs": [
    {
     "name": "stdout",
     "output_type": "stream",
     "text": [
      "              precision    recall  f1-score   support\n",
      "\n",
      "           0       0.81      0.74      0.77       136\n",
      "           1       0.72      0.79      0.75       114\n",
      "\n",
      "    accuracy                           0.76       250\n",
      "   macro avg       0.76      0.77      0.76       250\n",
      "weighted avg       0.77      0.76      0.76       250\n",
      "\n"
     ]
    }
   ],
   "source": [
    "print(classification_report(y_test,y_predict))"
   ]
  },
  {
   "cell_type": "markdown",
   "metadata": {},
   "source": [
    "## Hyperparameter optimization: Sequential model based optimization (SMBO) with Tree Parzen Estimator (TPE) surrogate model vs. Random search"
   ]
  },
  {
   "cell_type": "code",
   "execution_count": 17,
   "metadata": {},
   "outputs": [],
   "source": [
    "from hyperopt import hp,tpe,rand,fmin,Trials"
   ]
  },
  {
   "cell_type": "code",
   "execution_count": 18,
   "metadata": {},
   "outputs": [],
   "source": [
    "def objective_func(args):\n",
    "    n_neig = args['n_neig']\n",
    "    algo = args['algo']\n",
    "    leaf_size = args['leaf_size']\n",
    "    metric = args['metric']\n",
    "    clf = KNeighborsClassifier(n_neighbors=n_neig,algorithm=algo,leaf_size=leaf_size,metric=metric).fit(X_train_scaled,y_train)\n",
    "    y_predict = clf.predict(X_test_scaled)\n",
    "    error_rate = np.mean(y_predict != y_test)\n",
    "    return error_rate\n",
    "neig_list = range(1,60)\n",
    "algo_list = ['ball_tree','kd_tree']\n",
    "leaf_list = range(1,60)\n",
    "metric_list = ['euclidean','manhattan','chebyshev','minkowski']\n",
    "space = {'n_neig':hp.choice('n_neig',neig_list),\n",
    "        'algo':hp.choice('algo',algo_list),\n",
    "        'leaf_size':hp.choice('leaf_size',leaf_list),\n",
    "        'metric':hp.choice('metric',metric_list)}\n",
    "tpe_trials = Trials()\n",
    "rand_trials = Trials()"
   ]
  },
  {
   "cell_type": "code",
   "execution_count": 19,
   "metadata": {},
   "outputs": [
    {
     "name": "stdout",
     "output_type": "stream",
     "text": [
      "100%|██████████| 2000/2000 [00:59<00:00, 33.34it/s, best loss: 0.148]\n",
      "100%|██████████| 2000/2000 [00:25<00:00, 79.32it/s, best loss: 0.148]\n"
     ]
    }
   ],
   "source": [
    "max_eval = 2000\n",
    "best_clf_tpe = fmin(objective_func,space,algo=tpe.suggest,trials=tpe_trials,max_evals=max_eval)\n",
    "best_clf_rand = fmin(objective_func,space,algo=rand.suggest,trials=rand_trials,max_evals=max_eval)"
   ]
  },
  {
   "cell_type": "code",
   "execution_count": 20,
   "metadata": {
    "scrolled": true
   },
   "outputs": [
    {
     "name": "stdout",
     "output_type": "stream",
     "text": [
      "<tpe surrogate>\n",
      "Best algo: kd_tree\n",
      "Best metric: euclidean\n",
      "Best leaf size: 59\n",
      "Best n_neig: 23\n",
      "Minimum loss attained: 0.1480\n",
      "Number of trials needed to attain minimum: 47\n",
      "--------------------------------------------------\n",
      "<random search>\n",
      "Best algo: ball_tree\n",
      "Best metric: minkowski\n",
      "Best leaf size: 40\n",
      "Best n_neig: 23\n",
      "Minimum loss attained: 0.1480\n",
      "Number of trials needed to attain minimum: 236\n"
     ]
    }
   ],
   "source": [
    "print('<tpe surrogate>')\n",
    "print('Best algo: {}'.format(algo_list[best_clf_tpe['algo']]))\n",
    "print('Best metric: {}'.format(metric_list[best_clf_tpe['metric']]))\n",
    "print('Best leaf size: {:.0f}'.format(leaf_list[best_clf_tpe['leaf_size']]))\n",
    "print('Best n_neig: {:.0f}'.format(neig_list[best_clf_tpe['n_neig']]))\n",
    "print('Minimum loss attained: {:.4f}'.format(tpe_trials.best_trial['result']['loss']))\n",
    "print('Number of trials needed to attain minimum: {}'.format(tpe_trials.best_trial['misc']['idxs']['n_neig'][0]))\n",
    "print('--'*25)\n",
    "print('<random search>')\n",
    "print('Best algo: {}'.format(algo_list[best_clf_rand['algo']]))\n",
    "print('Best metric: {}'.format(metric_list[best_clf_rand['metric']]))\n",
    "print('Best leaf size: {:.0f}'.format(leaf_list[best_clf_rand['leaf_size']]))\n",
    "print('Best n_neig: {:.0f}'.format(neig_list[best_clf_rand['n_neig']]))\n",
    "print('Minimum loss attained: {:.4f}'.format(rand_trials.best_trial['result']['loss']))\n",
    "print('Number of trials needed to attain minimum: {}'.format(rand_trials.best_trial['misc']['idxs']['n_neig'][0]))"
   ]
  },
  {
   "cell_type": "code",
   "execution_count": 21,
   "metadata": {},
   "outputs": [],
   "source": [
    "results_tpe = pd.DataFrame({'iteration':tpe_trials.idxs_vals[0]['n_neig'],\n",
    "                            'loss':[x['loss'] for x in tpe_trials.results],\n",
    "                            'n_neig':[neig_list[idx] for idx in tpe_trials.idxs_vals[1]['n_neig']],\n",
    "                            'algo':[algo_list[idx] for idx in tpe_trials.idxs_vals[1]['algo']],\n",
    "                            'leaf_size':[leaf_list[idx] for idx in tpe_trials.idxs_vals[1]['leaf_size']],\n",
    "                            'metric':[metric_list[idx] for idx in tpe_trials.idxs_vals[1]['metric']]})\n",
    "results_rand = pd.DataFrame({'iteration':rand_trials.idxs_vals[0]['n_neig'],\n",
    "                             'loss':[x['loss'] for x in rand_trials.results],\n",
    "                             'n_neig':[neig_list[idx] for idx in rand_trials.idxs_vals[1]['n_neig']],\n",
    "                             'algo':[algo_list[idx] for idx in rand_trials.idxs_vals[1]['algo']],\n",
    "                             'leaf_size':[leaf_list[idx] for idx in rand_trials.idxs_vals[1]['leaf_size']],\n",
    "                             'metric':[metric_list[idx] for idx in rand_trials.idxs_vals[1]['metric']]})"
   ]
  },
  {
   "cell_type": "code",
   "execution_count": 22,
   "metadata": {},
   "outputs": [
    {
     "name": "stdout",
     "output_type": "stream",
     "text": [
      "<SMBO search example>\n"
     ]
    },
    {
     "data": {
      "text/html": [
       "<div>\n",
       "<style scoped>\n",
       "    .dataframe tbody tr th:only-of-type {\n",
       "        vertical-align: middle;\n",
       "    }\n",
       "\n",
       "    .dataframe tbody tr th {\n",
       "        vertical-align: top;\n",
       "    }\n",
       "\n",
       "    .dataframe thead th {\n",
       "        text-align: right;\n",
       "    }\n",
       "</style>\n",
       "<table border=\"1\" class=\"dataframe\">\n",
       "  <thead>\n",
       "    <tr style=\"text-align: right;\">\n",
       "      <th></th>\n",
       "      <th>iteration</th>\n",
       "      <th>loss</th>\n",
       "      <th>n_neig</th>\n",
       "      <th>algo</th>\n",
       "      <th>leaf_size</th>\n",
       "      <th>metric</th>\n",
       "    </tr>\n",
       "  </thead>\n",
       "  <tbody>\n",
       "    <tr>\n",
       "      <th>0</th>\n",
       "      <td>0</td>\n",
       "      <td>0.164</td>\n",
       "      <td>56</td>\n",
       "      <td>ball_tree</td>\n",
       "      <td>1</td>\n",
       "      <td>minkowski</td>\n",
       "    </tr>\n",
       "    <tr>\n",
       "      <th>1</th>\n",
       "      <td>1</td>\n",
       "      <td>0.160</td>\n",
       "      <td>47</td>\n",
       "      <td>ball_tree</td>\n",
       "      <td>55</td>\n",
       "      <td>minkowski</td>\n",
       "    </tr>\n",
       "    <tr>\n",
       "      <th>2</th>\n",
       "      <td>2</td>\n",
       "      <td>0.164</td>\n",
       "      <td>57</td>\n",
       "      <td>ball_tree</td>\n",
       "      <td>6</td>\n",
       "      <td>euclidean</td>\n",
       "    </tr>\n",
       "    <tr>\n",
       "      <th>3</th>\n",
       "      <td>3</td>\n",
       "      <td>0.180</td>\n",
       "      <td>25</td>\n",
       "      <td>ball_tree</td>\n",
       "      <td>7</td>\n",
       "      <td>manhattan</td>\n",
       "    </tr>\n",
       "    <tr>\n",
       "      <th>4</th>\n",
       "      <td>4</td>\n",
       "      <td>0.164</td>\n",
       "      <td>52</td>\n",
       "      <td>kd_tree</td>\n",
       "      <td>52</td>\n",
       "      <td>minkowski</td>\n",
       "    </tr>\n",
       "  </tbody>\n",
       "</table>\n",
       "</div>"
      ],
      "text/plain": [
       "   iteration   loss  n_neig       algo  leaf_size     metric\n",
       "0          0  0.164      56  ball_tree          1  minkowski\n",
       "1          1  0.160      47  ball_tree         55  minkowski\n",
       "2          2  0.164      57  ball_tree          6  euclidean\n",
       "3          3  0.180      25  ball_tree          7  manhattan\n",
       "4          4  0.164      52    kd_tree         52  minkowski"
      ]
     },
     "execution_count": 22,
     "metadata": {},
     "output_type": "execute_result"
    }
   ],
   "source": [
    "print('<SMBO search example>')\n",
    "results_tpe.head()"
   ]
  },
  {
   "cell_type": "code",
   "execution_count": 23,
   "metadata": {},
   "outputs": [
    {
     "name": "stdout",
     "output_type": "stream",
     "text": [
      "<random search example>\n"
     ]
    },
    {
     "data": {
      "text/html": [
       "<div>\n",
       "<style scoped>\n",
       "    .dataframe tbody tr th:only-of-type {\n",
       "        vertical-align: middle;\n",
       "    }\n",
       "\n",
       "    .dataframe tbody tr th {\n",
       "        vertical-align: top;\n",
       "    }\n",
       "\n",
       "    .dataframe thead th {\n",
       "        text-align: right;\n",
       "    }\n",
       "</style>\n",
       "<table border=\"1\" class=\"dataframe\">\n",
       "  <thead>\n",
       "    <tr style=\"text-align: right;\">\n",
       "      <th></th>\n",
       "      <th>iteration</th>\n",
       "      <th>loss</th>\n",
       "      <th>n_neig</th>\n",
       "      <th>algo</th>\n",
       "      <th>leaf_size</th>\n",
       "      <th>metric</th>\n",
       "    </tr>\n",
       "  </thead>\n",
       "  <tbody>\n",
       "    <tr>\n",
       "      <th>0</th>\n",
       "      <td>0</td>\n",
       "      <td>0.164</td>\n",
       "      <td>54</td>\n",
       "      <td>ball_tree</td>\n",
       "      <td>13</td>\n",
       "      <td>minkowski</td>\n",
       "    </tr>\n",
       "    <tr>\n",
       "      <th>1</th>\n",
       "      <td>1</td>\n",
       "      <td>0.164</td>\n",
       "      <td>56</td>\n",
       "      <td>kd_tree</td>\n",
       "      <td>29</td>\n",
       "      <td>euclidean</td>\n",
       "    </tr>\n",
       "    <tr>\n",
       "      <th>2</th>\n",
       "      <td>2</td>\n",
       "      <td>0.152</td>\n",
       "      <td>25</td>\n",
       "      <td>ball_tree</td>\n",
       "      <td>30</td>\n",
       "      <td>euclidean</td>\n",
       "    </tr>\n",
       "    <tr>\n",
       "      <th>3</th>\n",
       "      <td>3</td>\n",
       "      <td>0.160</td>\n",
       "      <td>28</td>\n",
       "      <td>ball_tree</td>\n",
       "      <td>13</td>\n",
       "      <td>minkowski</td>\n",
       "    </tr>\n",
       "    <tr>\n",
       "      <th>4</th>\n",
       "      <td>4</td>\n",
       "      <td>0.160</td>\n",
       "      <td>35</td>\n",
       "      <td>kd_tree</td>\n",
       "      <td>1</td>\n",
       "      <td>minkowski</td>\n",
       "    </tr>\n",
       "  </tbody>\n",
       "</table>\n",
       "</div>"
      ],
      "text/plain": [
       "   iteration   loss  n_neig       algo  leaf_size     metric\n",
       "0          0  0.164      54  ball_tree         13  minkowski\n",
       "1          1  0.164      56    kd_tree         29  euclidean\n",
       "2          2  0.152      25  ball_tree         30  euclidean\n",
       "3          3  0.160      28  ball_tree         13  minkowski\n",
       "4          4  0.160      35    kd_tree          1  minkowski"
      ]
     },
     "execution_count": 23,
     "metadata": {},
     "output_type": "execute_result"
    }
   ],
   "source": [
    "print('<random search example>')\n",
    "results_rand.head()"
   ]
  },
  {
   "cell_type": "code",
   "execution_count": 24,
   "metadata": {},
   "outputs": [
    {
     "data": {
      "image/png": "[encoded data removed]",
      "text/plain": [
       "<Figure size 1080x576 with 2 Axes>"
      ]
     },
     "metadata": {
      "needs_background": "light"
     },
     "output_type": "display_data"
    }
   ],
   "source": [
    "fig,axes = plt.subplots(1,2,figsize=(15,8))\n",
    "axes[0].plot(results_tpe['iteration'],results_tpe['n_neig'],'bo',alpha = 0.5)\n",
    "axes[0].set_title('SMBO search',size=25)\n",
    "axes[0].set_xlabel('iteration',size=20)\n",
    "axes[0].set_ylabel('n_neig',size=20)\n",
    "axes[1].plot(results_tpe['iteration'],results_rand['n_neig'],'bo',alpha = 0.5)\n",
    "axes[1].set_title('random search',size=25)\n",
    "axes[1].set_xlabel('iteration',size=20)\n",
    "plt.show()"
   ]
  },
  {
   "cell_type": "code",
   "execution_count": 25,
   "metadata": {},
   "outputs": [
    {
     "data": {
      "image/png": "[encoded data removed]",
      "text/plain": [
       "<Figure size 1080x576 with 2 Axes>"
      ]
     },
     "metadata": {
      "needs_background": "light"
     },
     "output_type": "display_data"
    }
   ],
   "source": [
    "fig,axes = plt.subplots(1,2,figsize=(15,8))\n",
    "axes[0].hist(results_tpe['n_neig'],bins=50,edgecolor ='k')\n",
    "axes[0].set_title('SMBO search',size=25)\n",
    "axes[0].set_xlabel('n_neig',size=20)\n",
    "axes[0].set_ylabel('# of search',size=20)\n",
    "axes[1].hist(results_rand['n_neig'],bins=50,edgecolor ='k')\n",
    "axes[1].set_title('random search',size=25)\n",
    "axes[1].set_xlabel('n_neig',size=20)\n",
    "plt.show()"
   ]
  },
  {
   "cell_type": "code",
   "execution_count": 26,
   "metadata": {},
   "outputs": [
    {
     "data": {
      "text/html": [
       "<div>\n",
       "<style scoped>\n",
       "    .dataframe tbody tr th:only-of-type {\n",
       "        vertical-align: middle;\n",
       "    }\n",
       "\n",
       "    .dataframe tbody tr th {\n",
       "        vertical-align: top;\n",
       "    }\n",
       "\n",
       "    .dataframe thead th {\n",
       "        text-align: right;\n",
       "    }\n",
       "</style>\n",
       "<table border=\"1\" class=\"dataframe\">\n",
       "  <thead>\n",
       "    <tr style=\"text-align: right;\">\n",
       "      <th></th>\n",
       "      <th>Predicted 0</th>\n",
       "      <th>Predicted 1</th>\n",
       "    </tr>\n",
       "  </thead>\n",
       "  <tbody>\n",
       "    <tr>\n",
       "      <th>True 0</th>\n",
       "      <td>110</td>\n",
       "      <td>26</td>\n",
       "    </tr>\n",
       "    <tr>\n",
       "      <th>True 1</th>\n",
       "      <td>11</td>\n",
       "      <td>103</td>\n",
       "    </tr>\n",
       "  </tbody>\n",
       "</table>\n",
       "</div>"
      ],
      "text/plain": [
       "        Predicted 0  Predicted 1\n",
       "True 0          110           26\n",
       "True 1           11          103"
      ]
     },
     "execution_count": 26,
     "metadata": {},
     "output_type": "execute_result"
    }
   ],
   "source": [
    "knn = KNeighborsClassifier(n_neighbors=23,algorithm='kd_tree',metric='euclidean',leaf_size=59).fit(X_train_scaled,y_train)\n",
    "y_predict = knn.predict(X_test_scaled)\n",
    "pd.DataFrame(confusion_matrix(y_test,y_predict),index=['True 0','True 1'],\n",
    "             columns=['Predicted 0','Predicted 1'])"
   ]
  },
  {
   "cell_type": "code",
   "execution_count": 27,
   "metadata": {},
   "outputs": [
    {
     "name": "stdout",
     "output_type": "stream",
     "text": [
      "              precision    recall  f1-score   support\n",
      "\n",
      "           0       0.91      0.81      0.86       136\n",
      "           1       0.80      0.90      0.85       114\n",
      "\n",
      "    accuracy                           0.85       250\n",
      "   macro avg       0.85      0.86      0.85       250\n",
      "weighted avg       0.86      0.85      0.85       250\n",
      "\n"
     ]
    }
   ],
   "source": [
    "print(classification_report(y_test,y_predict))"
   ]
  },
  {
   "cell_type": "markdown",
   "metadata": {},
   "source": [
    "# Conclusion\n",
    "For the given anonymous dataset, a simple KNN algorithm was quickly applied in an attempt to classify the target variables into 0 or 1. When K=1, the f1-score was ~0.76, but based on the \"Error rate\" figure, it can be seen that the model was overfitting in this case. By manually chossing **K=23**, the model could not only generalize, but also maximize the classification performance to (f1-score: 0.85) on the test set.\n",
    "\n",
    "The manual hyperparameter optimization is error-prone and inefficient. Therefore, two automated hyperparameter optimization algorithms were implemented for comparison. While the ***random search*** is popular to fine-tune the hyperparameters in many cases, it can be very computationally expensive and inefficient when the hyperparameter space or model is complex as the tuning process does not depend on the previous optimization trials. On the other hand, the ***Bayseian-based method (sequential model based optimization (SMBO))*** does indeed get feedbacks from the previous optimization trials and only focus on the specific region of the hyperparameter space that is likely to improve the model performance. Due to the extreme simplicity of the given dataset, all the optimization methods tried resulted in the same f1-score."
   ]
  }
 ],
 "metadata": {
  "kernelspec": {
   "display_name": "Python 3",
   "language": "python",
   "name": "python3"
  },
  "language_info": {
   "codemirror_mode": {
    "name": "ipython",
    "version": 3
   },
   "file_extension": ".py",
   "mimetype": "text/x-python",
   "name": "python",
   "nbconvert_exporter": "python",
   "pygments_lexer": "ipython3",
   "version": "3.6.9"
  }
 },
 "nbformat": 4,
 "nbformat_minor": 1
}
