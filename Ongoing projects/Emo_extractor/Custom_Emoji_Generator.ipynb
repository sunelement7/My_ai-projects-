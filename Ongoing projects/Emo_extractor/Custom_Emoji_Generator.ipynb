{
  "nbformat": 4,
  "nbformat_minor": 0,
  "metadata": {
    "colab": {
      "name": "Custom_Emoji_Generator.ipynb",
      "provenance": [],
      "collapsed_sections": [],
      "toc_visible": true,
      "include_colab_link": true
    },
    "kernelspec": {
      "name": "python3",
      "display_name": "Python 3"
    },
    "accelerator": "GPU"
  },
  "cells": [
    {
      "cell_type": "markdown",
      "metadata": {
        "id": "view-in-github",
        "colab_type": "text"
      },
      "source": [
        "<a href=\"https://colab.research.google.com/github/sungsujaing/emo_extractor/blob/master/Custom_Emoji_Generator.ipynb\" target=\"_parent\"><img src=\"https://colab.research.google.com/assets/colab-badge.svg\" alt=\"Open In Colab\"/></a>"
      ]
    },
    {
      "cell_type": "code",
      "metadata": {
        "id": "6492OdT70dQM",
        "colab_type": "code",
        "colab": {}
      },
      "source": [
        "import tensorflow as tf\n",
        "import tensorflow_hub as hub\n",
        "import pandas as pd\n",
        "import numpy as np\n",
        "import matplotlib.pyplot as plt\n",
        "from keras.layers import Input,Lambda,Dense\n",
        "from keras.models import Model\n",
        "import keras.backend as K\n",
        "from sklearn.preprocessing import LabelEncoder\n",
        "from sklearn.model_selection import train_test_split"
      ],
      "execution_count": 0,
      "outputs": []
    },
    {
      "cell_type": "code",
      "metadata": {
        "id": "nxCa46KF56ZT",
        "colab_type": "code",
        "outputId": "55c27911-1aed-4e2e-8375-8aa7ca5d5cef",
        "colab": {
          "base_uri": "https://localhost:8080/",
          "height": 709
        }
      },
      "source": [
        "from google.colab import drive\n",
        "drive.mount('/content/drive')"
      ],
      "execution_count": 0,
      "outputs": [
        {
          "output_type": "stream",
          "text": [
            "Go to this URL in a browser: https://accounts.google.com/o/oauth2/auth?client_id=947318989803-6bn6qk8qdgf4n4g3pfee6491hc0brc4i.apps.googleusercontent.com&redirect_uri=urn%3Aietf%3Awg%3Aoauth%3A2.0%3Aoob&scope=email%20https%3A%2F%2Fwww.googleapis.com%2Fauth%2Fdocs.test%20https%3A%2F%2Fwww.googleapis.com%2Fauth%2Fdrive%20https%3A%2F%2Fwww.googleapis.com%2Fauth%2Fdrive.photos.readonly%20https%3A%2F%2Fwww.googleapis.com%2Fauth%2Fpeopleapi.readonly&response_type=code\n",
            "\n",
            "Enter your authorization code:\n",
            "··········\n",
            "Mounted at /content/drive\n"
          ],
          "name": "stdout"
        }
      ]
    },
    {
      "cell_type": "code",
      "metadata": {
        "id": "hHhu_uSV0yd9",
        "colab_type": "code",
        "colab": {}
      },
      "source": [
        "text_data_path_1 = '/content/drive/My Drive/Colab Notebooks/INSIGHT_project/text_data_1.csv'\n",
        "text_data_path_2 = '/content/drive/My Drive/Colab Notebooks/INSIGHT_project/text_data_2.data'"
      ],
      "execution_count": 0,
      "outputs": []
    },
    {
      "cell_type": "code",
      "metadata": {
        "id": "_DNkG-bs03ld",
        "colab_type": "code",
        "outputId": "a0839f2c-2a81-453a-ae78-86d8d4b95718",
        "colab": {
          "base_uri": "https://localhost:8080/",
          "height": 443
        }
      },
      "source": [
        "df_1 = pd.read_csv(text_data_path_1)\n",
        "print('number of dataset: {}'.format(df_1.shape[0]))\n",
        "print('emotion types: {} types\\n{}'.format(df_1['sentiment'].nunique(),df_1['sentiment'].unique()))\n",
        "df_1.head()"
      ],
      "execution_count": 0,
      "outputs": [
        {
          "output_type": "stream",
          "text": [
            "number of dataset: 40000\n",
            "emotion types: 13 types\n",
            "['empty' 'sadness' 'enthusiasm' 'neutral' 'worry' 'surprise' 'love' 'fun'\n",
            " 'hate' 'happiness' 'boredom' 'relief' 'anger']\n"
          ],
          "name": "stdout"
        },
        {
          "output_type": "execute_result",
          "data": {
            "text/html": [
              "<div>\n",
              "<style scoped>\n",
              "    .dataframe tbody tr th:only-of-type {\n",
              "        vertical-align: middle;\n",
              "    }\n",
              "\n",
              "    .dataframe tbody tr th {\n",
              "        vertical-align: top;\n",
              "    }\n",
              "\n",
              "    .dataframe thead th {\n",
              "        text-align: right;\n",
              "    }\n",
              "</style>\n",
              "<table border=\"1\" class=\"dataframe\">\n",
              "  <thead>\n",
              "    <tr style=\"text-align: right;\">\n",
              "      <th></th>\n",
              "      <th>tweet_id</th>\n",
              "      <th>sentiment</th>\n",
              "      <th>author</th>\n",
              "      <th>content</th>\n",
              "    </tr>\n",
              "  </thead>\n",
              "  <tbody>\n",
              "    <tr>\n",
              "      <th>0</th>\n",
              "      <td>1956967341</td>\n",
              "      <td>empty</td>\n",
              "      <td>xoshayzers</td>\n",
              "      <td>@tiffanylue i know  i was listenin to bad habi...</td>\n",
              "    </tr>\n",
              "    <tr>\n",
              "      <th>1</th>\n",
              "      <td>1956967666</td>\n",
              "      <td>sadness</td>\n",
              "      <td>wannamama</td>\n",
              "      <td>Layin n bed with a headache  ughhhh...waitin o...</td>\n",
              "    </tr>\n",
              "    <tr>\n",
              "      <th>2</th>\n",
              "      <td>1956967696</td>\n",
              "      <td>sadness</td>\n",
              "      <td>coolfunky</td>\n",
              "      <td>Funeral ceremony...gloomy friday...</td>\n",
              "    </tr>\n",
              "    <tr>\n",
              "      <th>3</th>\n",
              "      <td>1956967789</td>\n",
              "      <td>enthusiasm</td>\n",
              "      <td>czareaquino</td>\n",
              "      <td>wants to hang out with friends SOON!</td>\n",
              "    </tr>\n",
              "    <tr>\n",
              "      <th>4</th>\n",
              "      <td>1956968416</td>\n",
              "      <td>neutral</td>\n",
              "      <td>xkilljoyx</td>\n",
              "      <td>@dannycastillo We want to trade with someone w...</td>\n",
              "    </tr>\n",
              "  </tbody>\n",
              "</table>\n",
              "</div>"
            ],
            "text/plain": [
              "     tweet_id  ...                                            content\n",
              "0  1956967341  ...  @tiffanylue i know  i was listenin to bad habi...\n",
              "1  1956967666  ...  Layin n bed with a headache  ughhhh...waitin o...\n",
              "2  1956967696  ...                Funeral ceremony...gloomy friday...\n",
              "3  1956967789  ...               wants to hang out with friends SOON!\n",
              "4  1956968416  ...  @dannycastillo We want to trade with someone w...\n",
              "\n",
              "[5 rows x 4 columns]"
            ]
          },
          "metadata": {
            "tags": []
          },
          "execution_count": 44
        }
      ]
    },
    {
      "cell_type": "code",
      "metadata": {
        "id": "_n-hsRHCCgZ6",
        "colab_type": "code",
        "outputId": "9b25ac8f-0872-4303-c7c8-6df7d66f7b84",
        "colab": {
          "base_uri": "https://localhost:8080/",
          "height": 255
        }
      },
      "source": [
        "df_2 = pd.read_csv(text_data_path_2)\n",
        "print('number of dataset: {}'.format(df_2.shape[0]))\n",
        "print('emotion types: {} types\\n{}'.format(df_2['emotions'].nunique(),df_2['emotions'].unique()))\n",
        "df_2.head()"
      ],
      "execution_count": 0,
      "outputs": [
        {
          "output_type": "stream",
          "text": [
            "number of dataset: 416809\n",
            "emotion types: 6 types\n",
            "['sadness' 'joy' 'love' 'anger' 'fear' 'surprise']\n"
          ],
          "name": "stdout"
        },
        {
          "output_type": "execute_result",
          "data": {
            "text/html": [
              "<div>\n",
              "<style scoped>\n",
              "    .dataframe tbody tr th:only-of-type {\n",
              "        vertical-align: middle;\n",
              "    }\n",
              "\n",
              "    .dataframe tbody tr th {\n",
              "        vertical-align: top;\n",
              "    }\n",
              "\n",
              "    .dataframe thead th {\n",
              "        text-align: right;\n",
              "    }\n",
              "</style>\n",
              "<table border=\"1\" class=\"dataframe\">\n",
              "  <thead>\n",
              "    <tr style=\"text-align: right;\">\n",
              "      <th></th>\n",
              "      <th>Unnamed: 0</th>\n",
              "      <th>text</th>\n",
              "      <th>emotions</th>\n",
              "    </tr>\n",
              "  </thead>\n",
              "  <tbody>\n",
              "    <tr>\n",
              "      <th>0</th>\n",
              "      <td>27383</td>\n",
              "      <td>i feel awful about it too because it s my job ...</td>\n",
              "      <td>sadness</td>\n",
              "    </tr>\n",
              "    <tr>\n",
              "      <th>1</th>\n",
              "      <td>110083</td>\n",
              "      <td>im alone i feel awful</td>\n",
              "      <td>sadness</td>\n",
              "    </tr>\n",
              "    <tr>\n",
              "      <th>2</th>\n",
              "      <td>140764</td>\n",
              "      <td>ive probably mentioned this before but i reall...</td>\n",
              "      <td>joy</td>\n",
              "    </tr>\n",
              "    <tr>\n",
              "      <th>3</th>\n",
              "      <td>100071</td>\n",
              "      <td>i was feeling a little low few days back</td>\n",
              "      <td>sadness</td>\n",
              "    </tr>\n",
              "    <tr>\n",
              "      <th>4</th>\n",
              "      <td>2837</td>\n",
              "      <td>i beleive that i am much more sensitive to oth...</td>\n",
              "      <td>love</td>\n",
              "    </tr>\n",
              "  </tbody>\n",
              "</table>\n",
              "</div>"
            ],
            "text/plain": [
              "   Unnamed: 0                                               text emotions\n",
              "0       27383  i feel awful about it too because it s my job ...  sadness\n",
              "1      110083                              im alone i feel awful  sadness\n",
              "2      140764  ive probably mentioned this before but i reall...      joy\n",
              "3      100071           i was feeling a little low few days back  sadness\n",
              "4        2837  i beleive that i am much more sensitive to oth...     love"
            ]
          },
          "metadata": {
            "tags": []
          },
          "execution_count": 45
        }
      ]
    },
    {
      "cell_type": "code",
      "metadata": {
        "id": "r2W0FlhgC3fr",
        "colab_type": "code",
        "colab": {}
      },
      "source": [
        "df_1_col_tokeep = ['sentiment','content']\n",
        "df_1_sentiment_filter = ['worry','sadness','love','surprise','fun','hate','anger']\n",
        "df_1 = df_1[df_1_col_tokeep]\n",
        "df_1 = df_1[df_1['sentiment'].isin(df_1_sentiment_filter)]\n",
        "df_1 = df_1.rename(columns = {\"sentiment\": \"emotions\",\"content\":\"text\"}) \n",
        "\n",
        "emotion_rename = {'worry':'fear','fun':'joy','hate':'anger'}\n",
        "df_1 = df_1.replace({'emotions':emotion_rename})"
      ],
      "execution_count": 0,
      "outputs": []
    },
    {
      "cell_type": "code",
      "metadata": {
        "id": "T0GQihnxCUDb",
        "colab_type": "code",
        "colab": {}
      },
      "source": [
        "def text_preprocessing(text):\n",
        "    new_text = ' '.join(x for x in text.strip().lower().split() if not x.startswith('@'))\n",
        "    new_text = ' '.join('website' if x.startswith('http://') else x for x in new_text.split())\n",
        "    return new_text         "
      ],
      "execution_count": 0,
      "outputs": []
    },
    {
      "cell_type": "code",
      "metadata": {
        "id": "8ZRKslSMEUeE",
        "colab_type": "code",
        "colab": {}
      },
      "source": [
        "df_1['text'] = df_1['text'].apply(text_preprocessing)\n",
        "df_2['text'] = df_2['text'].apply(text_preprocessing)\n",
        "df_2 = df_2[['emotions','text']]"
      ],
      "execution_count": 0,
      "outputs": []
    },
    {
      "cell_type": "code",
      "metadata": {
        "id": "D5OsxhMrHEsI",
        "colab_type": "code",
        "colab": {}
      },
      "source": [
        "df = pd.concat([df_1,df_2])\n",
        "df = df.reset_index(drop=True)"
      ],
      "execution_count": 0,
      "outputs": []
    },
    {
      "cell_type": "code",
      "metadata": {
        "id": "RPYSVn9kE42x",
        "colab_type": "code",
        "outputId": "fc4910ef-8da9-4853-d2ab-fa20657d6efb",
        "colab": {
          "base_uri": "https://localhost:8080/",
          "height": 317
        }
      },
      "source": [
        "df['emotions'].value_counts().plot.bar()"
      ],
      "execution_count": 0,
      "outputs": [
        {
          "output_type": "execute_result",
          "data": {
            "text/plain": [
              "<matplotlib.axes._subplots.AxesSubplot at 0x7f3566edb048>"
            ]
          },
          "metadata": {
            "tags": []
          },
          "execution_count": 50
        },
        {
          "output_type": "display_data",
          "data": {
            "image/png": "[encoded data removed]",
            "text/plain": [
              "<Figure size 432x288 with 1 Axes>"
            ]
          },
          "metadata": {
            "tags": []
          }
        }
      ]
    },
    {
      "cell_type": "code",
      "metadata": {
        "id": "YO11ip8TDkuK",
        "colab_type": "code",
        "colab": {}
      },
      "source": [
        "X = df['text'].tolist()\n",
        "y = df['emotions'].tolist()\n",
        "emotion_type = np.unique(y)"
      ],
      "execution_count": 0,
      "outputs": []
    },
    {
      "cell_type": "code",
      "metadata": {
        "id": "i2g5Jk_cDkgB",
        "colab_type": "code",
        "colab": {}
      },
      "source": [
        "# X = np.asarray(X)\n",
        "X = np.array(X, dtype=object)[:, np.newaxis]\n",
        "y = np.asarray(pd.get_dummies(y),dtype=np.int8)"
      ],
      "execution_count": 0,
      "outputs": []
    },
    {
      "cell_type": "code",
      "metadata": {
        "id": "qkDPtDnq8ibo",
        "colab_type": "code",
        "outputId": "b7e7edd4-c467-4dfc-bb10-cc8035bc17d8",
        "colab": {
          "base_uri": "https://localhost:8080/",
          "height": 119
        }
      },
      "source": [
        "X_train,X_valid_test,y_train,y_valid_test = train_test_split(X,y,test_size=0.05,random_state=0,stratify=y)\n",
        "X_valid,X_test,y_valid,y_test = train_test_split(X_valid_test,y_valid_test,test_size=0.5,random_state=0,stratify=y_valid_test)\n",
        "print('X_train shape: {}'.format(len(X_train)))\n",
        "print('y_train shape: {}'.format(len(y_train)))\n",
        "print('X_valid shape: {}'.format(len(X_valid)))\n",
        "print('y_valid shape: {}'.format(len(y_valid)))\n",
        "print('X_test shape: {}'.format(len(X_test)))\n",
        "print('y_test shape: {}'.format(len(y_test)))"
      ],
      "execution_count": 0,
      "outputs": [
        {
          "output_type": "stream",
          "text": [
            "X_train shape: 417687\n",
            "y_train shape: 417687\n",
            "X_valid shape: 10992\n",
            "y_valid shape: 10992\n",
            "X_test shape: 10992\n",
            "y_test shape: 10992\n"
          ],
          "name": "stdout"
        }
      ]
    },
    {
      "cell_type": "code",
      "metadata": {
        "id": "TOUs_JzxKLm-",
        "colab_type": "code",
        "colab": {}
      },
      "source": [
        "def USE(x):\n",
        "    return embed(tf.squeeze(tf.cast(x, tf.string)), \n",
        "    \tsignature=\"default\", as_dict=True)[\"default\"]"
      ],
      "execution_count": 0,
      "outputs": []
    },
    {
      "cell_type": "code",
      "metadata": {
        "id": "Y-yfw94SKXRJ",
        "colab_type": "code",
        "colab": {}
      },
      "source": [
        "module_url = \"https://tfhub.dev/google/universal-sentence-encoder-large/3\"\n",
        "# Import the Universal Sentence Encoder's TF Hub module\n",
        "embed = hub.Module(module_url)"
      ],
      "execution_count": 0,
      "outputs": []
    },
    {
      "cell_type": "code",
      "metadata": {
        "id": "NPLidH4_KN1o",
        "colab_type": "code",
        "outputId": "3486a814-fe0c-4a73-cfae-71c04d59c8f1",
        "colab": {
          "base_uri": "https://localhost:8080/",
          "height": 194
        }
      },
      "source": [
        "input_text = Input(shape=(1,), dtype=tf.string)\n",
        "embedding = Lambda(USE,output_shape=(512,))(input_text)\n",
        "dense = Dense(256, activation='relu')(embedding)\n",
        "pred = Dense(df['emotions'].nunique(),activation='softmax')(dense)\n",
        "model = Model(inputs=[input_text],outputs=pred)\n",
        "model.compile(loss='categorical_crossentropy',optimizer='adam', metrics=['accuracy'])"
      ],
      "execution_count": 0,
      "outputs": [
        {
          "output_type": "stream",
          "text": [
            "INFO:tensorflow:Saver not created because there are no variables in the graph to restore\n"
          ],
          "name": "stdout"
        },
        {
          "output_type": "stream",
          "text": [
            "INFO:tensorflow:Saver not created because there are no variables in the graph to restore\n"
          ],
          "name": "stderr"
        }
      ]
    },
    {
      "cell_type": "code",
      "metadata": {
        "id": "qIajX3UfOrjb",
        "colab_type": "code",
        "colab": {}
      },
      "source": [
        "test_idx = 150"
      ],
      "execution_count": 0,
      "outputs": []
    },
    {
      "cell_type": "code",
      "metadata": {
        "id": "5JzhBx8UOIW7",
        "colab_type": "code",
        "outputId": "7aaaeac0-dd73-4bae-8a73-07ffa46c7c68",
        "colab": {
          "base_uri": "https://localhost:8080/",
          "height": 34
        }
      },
      "source": [
        "X[test_idx]"
      ],
      "execution_count": 0,
      "outputs": [
        {
          "output_type": "execute_result",
          "data": {
            "text/plain": [
              "array(['had to cancel wow for now'], dtype=object)"
            ]
          },
          "metadata": {
            "tags": []
          },
          "execution_count": 65
        }
      ]
    },
    {
      "cell_type": "code",
      "metadata": {
        "id": "xkUTz1ioOjgd",
        "colab_type": "code",
        "outputId": "a3710b90-e10d-4ab1-8864-a6661d4c93ea",
        "colab": {
          "base_uri": "https://localhost:8080/",
          "height": 34
        }
      },
      "source": [
        "emotion_type[np.argmax(y[test_idx])]"
      ],
      "execution_count": 0,
      "outputs": [
        {
          "output_type": "execute_result",
          "data": {
            "text/plain": [
              "'sadness'"
            ]
          },
          "metadata": {
            "tags": []
          },
          "execution_count": 66
        }
      ]
    },
    {
      "cell_type": "code",
      "metadata": {
        "id": "aYdnHXsMKUys",
        "colab_type": "code",
        "outputId": "8ba62c4b-4555-4977-bd4f-f748c67e9320",
        "colab": {
          "base_uri": "https://localhost:8080/",
          "height": 1000
        }
      },
      "source": [
        "with tf.Session() as session:\n",
        "    K.set_session(session)\n",
        "    session.run(tf.global_variables_initializer())\n",
        "    session.run(tf.tables_initializer())\n",
        "    history = model.fit(X_train,y_train,\n",
        "              validation_data=(X_valid,y_valid),\n",
        "              epochs=5,batch_size=64,shuffle=True)\n",
        "    model.save_weights('./model.h5')"
      ],
      "execution_count": 0,
      "outputs": [
        {
          "output_type": "stream",
          "text": [
            "Train on 417687 samples, validate on 10992 samples\n",
            "Epoch 1/5\n",
            "417687/417687 [==============================] - 648s 2ms/step - loss: 0.9286 - acc: 0.6529 - val_loss: 0.8450 - val_acc: 0.6812\n",
            "Epoch 2/5\n",
            "417687/417687 [==============================] - 649s 2ms/step - loss: 0.8050 - acc: 0.6976 - val_loss: 0.7968 - val_acc: 0.6995\n",
            "Epoch 3/5\n",
            "417687/417687 [==============================] - 647s 2ms/step - loss: 0.7639 - acc: 0.7132 - val_loss: 0.7777 - val_acc: 0.7054\n",
            "Epoch 4/5\n",
            "417687/417687 [==============================] - 635s 2ms/step - loss: 0.7389 - acc: 0.7218 - val_loss: 0.7620 - val_acc: 0.7152\n",
            "Epoch 5/5\n",
            "417687/417687 [==============================] - 640s 2ms/step - loss: 0.7211 - acc: 0.7279 - val_loss: 0.7591 - val_acc: 0.7163\n"
          ],
          "name": "stdout"
        }
      ]
    },
    {
      "cell_type": "code",
      "metadata": {
        "id": "HkR8NRwgKmxn",
        "colab_type": "code",
        "outputId": "5cc7e948-4bf2-45f3-f548-578ffc699dfb",
        "colab": {
          "base_uri": "https://localhost:8080/",
          "height": 302
        }
      },
      "source": [
        "new_text = [\"In what year did the titanic sink ?\", \n",
        "            \"What is the highest peak in California ?\", \n",
        "            \"Who invented the light bulb ?\"]\n",
        "\n",
        "new_text = np.array(new_text, dtype=object)[:, np.newaxis]\n",
        "with tf.Session() as session:\n",
        "  K.set_session(session)\n",
        "  session.run(tf.global_variables_initializer())\n",
        "  session.run(tf.tables_initializer())\n",
        "  model.load_weights('./model.h5')  \n",
        "  predicts = model.predict(X_test, batch_size=32)\n",
        "\n",
        "# categories = df_train.label.cat.categories.tolist()\n",
        "# predict_logits = predicts.argmax(axis=1)\n",
        "# predict_labels = [categories[logit] for logit in predict_logits]\n",
        "# print(predict_labels)"
      ],
      "execution_count": 0,
      "outputs": [
        {
          "output_type": "stream",
          "text": [
            "Exception ignored in: <bound method BaseSession._Callable.__del__ of <tensorflow.python.client.session.BaseSession._Callable object at 0x7f3505a03748>>\n",
            "Traceback (most recent call last):\n",
            "  File \"/usr/local/lib/python3.6/dist-packages/tensorflow/python/client/session.py\", line 1473, in __del__\n",
            "    self._session._session, self._handle)\n",
            "tensorflow.python.framework.errors_impl.CancelledError: (None, None, 'Session has been closed.')\n"
          ],
          "name": "stderr"
        }
      ]
    },
    {
      "cell_type": "code",
      "metadata": {
        "id": "U-cg-_G5MK11",
        "colab_type": "code",
        "outputId": "3f3868ad-2286-45ba-88f7-dc52ef038491",
        "colab": {
          "base_uri": "https://localhost:8080/",
          "height": 119
        }
      },
      "source": [
        "from sklearn.metrics import confusion_matrix,classification_report\n",
        "confusion_matrix(np.argmax(y_test,axis=1),np.argmax(predicts,axis=1))"
      ],
      "execution_count": 0,
      "outputs": [
        {
          "output_type": "execute_result",
          "data": {
            "text/plain": [
              "array([[1047,   71,   75,   22,  248,    5],\n",
              "       [  76,  884,  130,   31,  241,   43],\n",
              "       [  69,  107, 2856,  177,  339,   23],\n",
              "       [  31,   18,  341,  451,  112,    7],\n",
              "       [ 172,  188,  180,   61, 2548,   10],\n",
              "       [  12,   74,  103,   21,   66,  153]])"
            ]
          },
          "metadata": {
            "tags": []
          },
          "execution_count": 83
        }
      ]
    },
    {
      "cell_type": "code",
      "metadata": {
        "id": "LuqywmPttBUW",
        "colab_type": "code",
        "outputId": "e9c34831-9292-4ee1-89c4-59c92b565606",
        "colab": {
          "base_uri": "https://localhost:8080/",
          "height": 238
        }
      },
      "source": [
        "print(classification_report(np.argmax(y_test,axis=1),np.argmax(predicts,axis=1)))"
      ],
      "execution_count": 0,
      "outputs": [
        {
          "output_type": "stream",
          "text": [
            "              precision    recall  f1-score   support\n",
            "\n",
            "           0       0.74      0.71      0.73      1468\n",
            "           1       0.66      0.63      0.64      1405\n",
            "           2       0.78      0.80      0.79      3571\n",
            "           3       0.59      0.47      0.52       960\n",
            "           4       0.72      0.81      0.76      3159\n",
            "           5       0.63      0.36      0.46       429\n",
            "\n",
            "    accuracy                           0.72     10992\n",
            "   macro avg       0.69      0.63      0.65     10992\n",
            "weighted avg       0.72      0.72      0.72     10992\n",
            "\n"
          ],
          "name": "stdout"
        }
      ]
    },
    {
      "cell_type": "markdown",
      "metadata": {
        "id": "6jaE8c_XVi7O",
        "colab_type": "text"
      },
      "source": [
        "## Spliting Joy and Sadness by half"
      ]
    },
    {
      "cell_type": "code",
      "metadata": {
        "id": "Wvti_vNVtWDy",
        "colab_type": "code",
        "outputId": "2f17fc05-d4cd-459d-8c55-65f4a48c08cf",
        "colab": {
          "base_uri": "https://localhost:8080/",
          "height": 34
        }
      },
      "source": [
        "len(df)"
      ],
      "execution_count": 0,
      "outputs": [
        {
          "output_type": "execute_result",
          "data": {
            "text/plain": [
              "439671"
            ]
          },
          "metadata": {
            "tags": []
          },
          "execution_count": 87
        }
      ]
    },
    {
      "cell_type": "code",
      "metadata": {
        "id": "n2Csr3Y0VhoA",
        "colab_type": "code",
        "colab": {}
      },
      "source": [
        "df_joy_temp = df[df['emotions']=='joy']\n",
        "df_sadness_temp = df[df['emotions']=='sadness']\n",
        "df_anger_temp = df[df['emotions']=='anger']\n",
        "df_fear_temp = df[df['emotions']=='fear']\n",
        "df_love_temp = df[df['emotions']=='love']\n",
        "from sklearn.utils import shuffle\n",
        "\n",
        "df_joy_temp = shuffle(df_joy_temp)#.sample(frac=1).reset_index(drop=True)\n",
        "df_sadness_temp = shuffle(df_sadness_temp)#.sample(frac=1).reset_index(drop=True)\n",
        "df_anger_temp = shuffle(df_anger_temp)#.sample(frac=1).reset_index(drop=True)\n",
        "df_fear_temp = shuffle(df_fear_temp)#.sample(frac=1).reset_index(drop=True)\n",
        "df_love_temp = shuffle(df_love_temp)#.sample(frac=1).reset_index(drop=True)\n",
        "\n",
        "df_joy_temp = df_joy_temp[1:int(np.ceil(len(df_joy_temp)/7))]\n",
        "df_sadness_temp = df_sadness_temp[1:int(np.ceil(len(df_sadness_temp)/6))]\n",
        "df_anger_temp = df_anger_temp[1:int(np.ceil(len(df_anger_temp)/3))]\n",
        "df_fear_temp = df_fear_temp[1:int(np.ceil(len(df_fear_temp)/3))] \n",
        "df_love_temp = df_love_temp[1:int(np.ceil(len(df_love_temp)/2))] \n",
        "df_rest_temp = df[df['emotions']=='surprise']"
      ],
      "execution_count": 0,
      "outputs": []
    },
    {
      "cell_type": "code",
      "metadata": {
        "id": "sreEbiiNtfia",
        "colab_type": "code",
        "colab": {}
      },
      "source": [
        "df = pd.concat([df_joy_temp,df_sadness_temp,df_anger_temp,df_fear_temp,df_love_temp,df_rest_temp])\n",
        "df = shuffle(df)#.sample(frac=1).reset_index(drop=True)"
      ],
      "execution_count": 0,
      "outputs": []
    },
    {
      "cell_type": "code",
      "metadata": {
        "id": "kY38Q96ItjsX",
        "colab_type": "code",
        "outputId": "915ccce5-e081-47a6-d038-e317e72c6bec",
        "colab": {
          "base_uri": "https://localhost:8080/",
          "height": 317
        }
      },
      "source": [
        "df['emotions'].value_counts().plot.bar()"
      ],
      "execution_count": 0,
      "outputs": [
        {
          "output_type": "execute_result",
          "data": {
            "text/plain": [
              "<matplotlib.axes._subplots.AxesSubplot at 0x7f35059a2550>"
            ]
          },
          "metadata": {
            "tags": []
          },
          "execution_count": 90
        },
        {
          "output_type": "display_data",
          "data": {
            "image/png": "[encoded data removed]",
            "text/plain": [
              "<Figure size 432x288 with 1 Axes>"
            ]
          },
          "metadata": {
            "tags": []
          }
        }
      ]
    },
    {
      "cell_type": "code",
      "metadata": {
        "id": "I0W9Lf0YVuW-",
        "colab_type": "code",
        "colab": {}
      },
      "source": [
        "X = df['text'].tolist()\n",
        "y = df['emotions'].tolist()\n",
        "emotion_type = np.unique(y)"
      ],
      "execution_count": 0,
      "outputs": []
    },
    {
      "cell_type": "code",
      "metadata": {
        "id": "YuBPhyD1tqvF",
        "colab_type": "code",
        "colab": {}
      },
      "source": [
        "X = np.array(X, dtype=object)[:, np.newaxis]\n",
        "y = np.asarray(pd.get_dummies(y),dtype=np.int8)"
      ],
      "execution_count": 0,
      "outputs": []
    },
    {
      "cell_type": "code",
      "metadata": {
        "id": "f0Ordk-ltt5v",
        "colab_type": "code",
        "outputId": "c1fe7787-5235-486e-8347-8c095474107f",
        "colab": {
          "base_uri": "https://localhost:8080/",
          "height": 119
        }
      },
      "source": [
        "X_train,X_valid_test,y_train,y_valid_test = train_test_split(X,y,test_size=0.05,random_state=0,stratify=y)\n",
        "X_valid,X_test,y_valid,y_test = train_test_split(X_valid_test,y_valid_test,test_size=0.5,random_state=0,stratify=y_valid_test)\n",
        "print('X_train shape: {}'.format(len(X_train)))\n",
        "print('y_train shape: {}'.format(len(y_train)))\n",
        "print('X_valid shape: {}'.format(len(X_valid)))\n",
        "print('y_valid shape: {}'.format(len(y_valid)))\n",
        "print('X_test shape: {}'.format(len(X_test)))\n",
        "print('y_test shape: {}'.format(len(y_test)))"
      ],
      "execution_count": 0,
      "outputs": [
        {
          "output_type": "stream",
          "text": [
            "X_train shape: 110319\n",
            "y_train shape: 110319\n",
            "X_valid shape: 2903\n",
            "y_valid shape: 2903\n",
            "X_test shape: 2904\n",
            "y_test shape: 2904\n"
          ],
          "name": "stdout"
        }
      ]
    },
    {
      "cell_type": "code",
      "metadata": {
        "id": "ytrb3vjctt_d",
        "colab_type": "code",
        "outputId": "83f135c5-bf84-4b7c-8bf0-7aec23028fde",
        "colab": {
          "base_uri": "https://localhost:8080/",
          "height": 131
        }
      },
      "source": [
        "input_text = Input(shape=(1,), dtype=tf.string)\n",
        "embedding = Lambda(USE,output_shape=(512,))(input_text)\n",
        "dense = Dense(256, activation='relu')(embedding)\n",
        "pred = Dense(df['emotions'].nunique(),activation='softmax')(dense)\n",
        "model = Model(inputs=[input_text],outputs=pred)\n",
        "model.compile(loss='categorical_crossentropy',optimizer='adam', metrics=['accuracy'])"
      ],
      "execution_count": 0,
      "outputs": [
        {
          "output_type": "stream",
          "text": [
            "INFO:tensorflow:Saver not created because there are no variables in the graph to restore\n"
          ],
          "name": "stdout"
        },
        {
          "output_type": "stream",
          "text": [
            "INFO:tensorflow:Saver not created because there are no variables in the graph to restore\n"
          ],
          "name": "stderr"
        }
      ]
    },
    {
      "cell_type": "code",
      "metadata": {
        "id": "lGZdbUY1tuFs",
        "colab_type": "code",
        "outputId": "c4e0bde0-43b9-49df-ba9e-43e83cbefb3e",
        "colab": {
          "base_uri": "https://localhost:8080/",
          "height": 284
        }
      },
      "source": [
        "with tf.Session() as session:\n",
        "    K.set_session(session)\n",
        "    session.run(tf.global_variables_initializer())\n",
        "    session.run(tf.tables_initializer())\n",
        "    history = model.fit(X_train,y_train,\n",
        "              validation_data=(X_valid,y_valid),\n",
        "              epochs=5,batch_size=64,shuffle=True)\n",
        "    model.save_weights('./model_balanced.h5')"
      ],
      "execution_count": 0,
      "outputs": [
        {
          "output_type": "stream",
          "text": [
            "Train on 110319 samples, validate on 2903 samples\n",
            "Epoch 1/5\n",
            "110319/110319 [==============================] - 177s 2ms/step - loss: 1.1601 - acc: 0.5590 - val_loss: 1.0800 - val_acc: 0.5846\n",
            "Epoch 2/5\n",
            "110319/110319 [==============================] - 173s 2ms/step - loss: 1.0166 - acc: 0.6151 - val_loss: 1.0068 - val_acc: 0.6080\n",
            "Epoch 3/5\n",
            "110319/110319 [==============================] - 172s 2ms/step - loss: 0.9461 - acc: 0.6447 - val_loss: 0.9574 - val_acc: 0.6307\n",
            "Epoch 4/5\n",
            "110319/110319 [==============================] - 169s 2ms/step - loss: 0.8985 - acc: 0.6638 - val_loss: 0.9350 - val_acc: 0.6466\n",
            "Epoch 5/5\n",
            "110319/110319 [==============================] - 168s 2ms/step - loss: 0.8636 - acc: 0.6771 - val_loss: 0.9211 - val_acc: 0.6604\n"
          ],
          "name": "stdout"
        }
      ]
    },
    {
      "cell_type": "code",
      "metadata": {
        "id": "vQRFojpTtuNd",
        "colab_type": "code",
        "colab": {}
      },
      "source": [
        "with tf.Session() as session:\n",
        "  K.set_session(session)\n",
        "  session.run(tf.global_variables_initializer())\n",
        "  session.run(tf.tables_initializer())\n",
        "  model.load_weights('./model_balanced.h5')  \n",
        "  predicts = model.predict(X_test, batch_size=32)"
      ],
      "execution_count": 0,
      "outputs": []
    },
    {
      "cell_type": "code",
      "metadata": {
        "id": "Sqy97rVztuUO",
        "colab_type": "code",
        "outputId": "0f8df4ab-d109-446f-bd36-97fb72fa0c5a",
        "colab": {
          "base_uri": "https://localhost:8080/",
          "height": 119
        }
      },
      "source": [
        "confusion_matrix(np.argmax(y_test,axis=1),np.argmax(predicts,axis=1))"
      ],
      "execution_count": 0,
      "outputs": [
        {
          "output_type": "execute_result",
          "data": {
            "text/plain": [
              "array([[382,  29,  13,  19,  41,   5],\n",
              "       [ 25, 289,  24,  30,  53,  47],\n",
              "       [ 31,  30, 277,  95,  48,  30],\n",
              "       [ 14,  22,  54, 321,  44,  25],\n",
              "       [ 69,  60,  19,  37, 334,   8],\n",
              "       [ 27,  37,  30,  46,  17, 272]])"
            ]
          },
          "metadata": {
            "tags": []
          },
          "execution_count": 97
        }
      ]
    },
    {
      "cell_type": "code",
      "metadata": {
        "id": "qsNMBZMWtuS6",
        "colab_type": "code",
        "outputId": "023bbf2b-4a22-44e4-d1ca-6aef4bb31bdd",
        "colab": {
          "base_uri": "https://localhost:8080/",
          "height": 238
        }
      },
      "source": [
        "print(classification_report(np.argmax(y_test,axis=1),np.argmax(predicts,axis=1)))"
      ],
      "execution_count": 0,
      "outputs": [
        {
          "output_type": "stream",
          "text": [
            "              precision    recall  f1-score   support\n",
            "\n",
            "           0       0.70      0.78      0.74       489\n",
            "           1       0.62      0.62      0.62       468\n",
            "           2       0.66      0.54      0.60       511\n",
            "           3       0.59      0.67      0.62       480\n",
            "           4       0.62      0.63      0.63       527\n",
            "           5       0.70      0.63      0.67       429\n",
            "\n",
            "    accuracy                           0.65      2904\n",
            "   macro avg       0.65      0.65      0.65      2904\n",
            "weighted avg       0.65      0.65      0.64      2904\n",
            "\n"
          ],
          "name": "stdout"
        }
      ]
    },
    {
      "cell_type": "markdown",
      "metadata": {
        "id": "RBl6ySTjw3BR",
        "colab_type": "text"
      },
      "source": [
        "## LSTM"
      ]
    },
    {
      "cell_type": "code",
      "metadata": {
        "id": "l71Wbxkfw1Cr",
        "colab_type": "code",
        "outputId": "4af8ad48-772c-43be-c287-cefb9ccfb5f3",
        "colab": {
          "base_uri": "https://localhost:8080/",
          "height": 204
        }
      },
      "source": [
        "df.head()"
      ],
      "execution_count": 0,
      "outputs": [
        {
          "output_type": "execute_result",
          "data": {
            "text/html": [
              "<div>\n",
              "<style scoped>\n",
              "    .dataframe tbody tr th:only-of-type {\n",
              "        vertical-align: middle;\n",
              "    }\n",
              "\n",
              "    .dataframe tbody tr th {\n",
              "        vertical-align: top;\n",
              "    }\n",
              "\n",
              "    .dataframe thead th {\n",
              "        text-align: right;\n",
              "    }\n",
              "</style>\n",
              "<table border=\"1\" class=\"dataframe\">\n",
              "  <thead>\n",
              "    <tr style=\"text-align: right;\">\n",
              "      <th></th>\n",
              "      <th>emotions</th>\n",
              "      <th>text</th>\n",
              "    </tr>\n",
              "  </thead>\n",
              "  <tbody>\n",
              "    <tr>\n",
              "      <th>227807</th>\n",
              "      <td>love</td>\n",
              "      <td>i feel that sense of fond protectiveness for s...</td>\n",
              "    </tr>\n",
              "    <tr>\n",
              "      <th>376691</th>\n",
              "      <td>joy</td>\n",
              "      <td>i am number four download to feel the terrific...</td>\n",
              "    </tr>\n",
              "    <tr>\n",
              "      <th>391074</th>\n",
              "      <td>joy</td>\n",
              "      <td>i feel like im slowly losing my mind and my in...</td>\n",
              "    </tr>\n",
              "    <tr>\n",
              "      <th>240768</th>\n",
              "      <td>joy</td>\n",
              "      <td>i feel as if today isnt going to be completely...</td>\n",
              "    </tr>\n",
              "    <tr>\n",
              "      <th>75603</th>\n",
              "      <td>joy</td>\n",
              "      <td>i hope this means that you are on the mend and...</td>\n",
              "    </tr>\n",
              "  </tbody>\n",
              "</table>\n",
              "</div>"
            ],
            "text/plain": [
              "       emotions                                               text\n",
              "227807     love  i feel that sense of fond protectiveness for s...\n",
              "376691      joy  i am number four download to feel the terrific...\n",
              "391074      joy  i feel like im slowly losing my mind and my in...\n",
              "240768      joy  i feel as if today isnt going to be completely...\n",
              "75603       joy  i hope this means that you are on the mend and..."
            ]
          },
          "metadata": {
            "tags": []
          },
          "execution_count": 102
        }
      ]
    },
    {
      "cell_type": "code",
      "metadata": {
        "id": "nWXjGk_kx-Ir",
        "colab_type": "code",
        "outputId": "1252bbfc-9e7e-4fb7-faed-d725b02e15c3",
        "colab": {
          "base_uri": "https://localhost:8080/",
          "height": 34
        }
      },
      "source": [
        "len(df)"
      ],
      "execution_count": 0,
      "outputs": [
        {
          "output_type": "execute_result",
          "data": {
            "text/plain": [
              "116126"
            ]
          },
          "metadata": {
            "tags": []
          },
          "execution_count": 103
        }
      ]
    },
    {
      "cell_type": "code",
      "metadata": {
        "id": "1GZQhr3bw13Y",
        "colab_type": "code",
        "colab": {}
      },
      "source": [
        "input_sentences = [text.split(\" \") for text in df[\"text\"].values.tolist()]\n",
        "labels = df[\"emotions\"].values.tolist()"
      ],
      "execution_count": 0,
      "outputs": []
    },
    {
      "cell_type": "code",
      "metadata": {
        "id": "wIntnt8Ow1-e",
        "colab_type": "code",
        "outputId": "c46f0522-1b1f-4eb8-bb4b-451f8ac331f3",
        "colab": {
          "base_uri": "https://localhost:8080/",
          "height": 134
        }
      },
      "source": [
        "# Initialize word2id and label2id dictionaries that will be used to encode words and labels\n",
        "word2id = dict()\n",
        "label2id = dict()\n",
        "\n",
        "max_words = 0 # maximum number of words in a sentence\n",
        "\n",
        "# Construction of word2id dict\n",
        "for sentence in input_sentences:\n",
        "    for word in sentence:\n",
        "        # Add words to word2id dict if not exist\n",
        "        if word not in word2id:\n",
        "            word2id[word] = len(word2id)\n",
        "    # If length of the sentence is greater than max_words, update max_words\n",
        "    if len(sentence) > max_words:\n",
        "        max_words = len(sentence)\n",
        "    \n",
        "# Construction of label2id and id2label dicts\n",
        "label2id = {l: i for i, l in enumerate(set(labels))}\n",
        "id2label = {v: k for k, v in label2id.items()}\n",
        "id2label"
      ],
      "execution_count": 0,
      "outputs": [
        {
          "output_type": "execute_result",
          "data": {
            "text/plain": [
              "{0: 'sadness', 1: 'joy', 2: 'anger', 3: 'fear', 4: 'love', 5: 'surprise'}"
            ]
          },
          "metadata": {
            "tags": []
          },
          "execution_count": 106
        }
      ]
    },
    {
      "cell_type": "code",
      "metadata": {
        "id": "Gn6uykJww2Fn",
        "colab_type": "code",
        "outputId": "30c6dc7d-fe72-468a-f845-beda2125b4ab",
        "colab": {
          "base_uri": "https://localhost:8080/",
          "height": 51
        }
      },
      "source": [
        "import keras\n",
        "# Encode input words and labels\n",
        "X = [[word2id[word] for word in sentence] for sentence in input_sentences]\n",
        "Y = [label2id[label] for label in labels]\n",
        "\n",
        "# Apply Padding to X\n",
        "from keras.preprocessing.sequence import pad_sequences\n",
        "X = pad_sequences(X, max_words)\n",
        "\n",
        "# Convert Y to numpy array\n",
        "Y = keras.utils.to_categorical(Y, num_classes=len(label2id), dtype='float32')\n",
        "\n",
        "# Print shapes\n",
        "print(\"Shape of X: {}\".format(X.shape))\n",
        "print(\"Shape of Y: {}\".format(Y.shape))"
      ],
      "execution_count": 0,
      "outputs": [
        {
          "output_type": "stream",
          "text": [
            "Shape of X: (116126, 178)\n",
            "Shape of Y: (116126, 6)\n"
          ],
          "name": "stdout"
        }
      ]
    },
    {
      "cell_type": "code",
      "metadata": {
        "id": "_OV14ydTw2Ql",
        "colab_type": "code",
        "colab": {}
      },
      "source": [
        "embedding_dim = 100 # The dimension of word embeddings\n",
        "\n",
        "# Define input tensor\n",
        "sequence_input = keras.Input(shape=(max_words,), dtype='int32')\n",
        "\n",
        "# Word embedding layer\n",
        "embedded_inputs =keras.layers.Embedding(len(word2id) + 1,\n",
        "                                        embedding_dim,\n",
        "                                        input_length=max_words)(sequence_input)\n",
        "\n",
        "# Apply dropout to prevent overfitting\n",
        "embedded_inputs = keras.layers.Dropout(0.2)(embedded_inputs)\n",
        "\n",
        "# Apply Bidirectional LSTM over embedded inputs\n",
        "lstm_outs = keras.layers.wrappers.Bidirectional(\n",
        "    keras.layers.LSTM(embedding_dim, return_sequences=True)\n",
        ")(embedded_inputs)\n",
        "\n",
        "# Apply dropout to LSTM outputs to prevent overfitting\n",
        "lstm_outs = keras.layers.Dropout(0.2)(lstm_outs)\n",
        "\n",
        "# Attention Mechanism - Generate attention vectors\n",
        "input_dim = int(lstm_outs.shape[2]) ## may be ommitted \n",
        "permuted_inputs = keras.layers.Permute((2, 1))(lstm_outs) ## may be ommitted\n",
        "attention_vector = keras.layers.TimeDistributed(keras.layers.Dense(1))(lstm_outs)\n",
        "attention_vector = keras.layers.Reshape((max_words,))(attention_vector)\n",
        "attention_vector = keras.layers.Activation('softmax', name='attention_vec')(attention_vector)\n",
        "attention_output = keras.layers.Dot(axes=1)([lstm_outs, attention_vector])\n",
        "\n",
        "# Last layer: fully connected with softmax activation\n",
        "fc = keras.layers.Dense(embedding_dim, activation='relu')(attention_output)\n",
        "output = keras.layers.Dense(len(label2id), activation='softmax')(fc)\n",
        "\n",
        "# Finally building model\n",
        "model = keras.Model(inputs=[sequence_input], outputs=output)\n",
        "model.compile(loss=\"categorical_crossentropy\", metrics=[\"accuracy\"], optimizer='adam')"
      ],
      "execution_count": 0,
      "outputs": []
    },
    {
      "cell_type": "code",
      "metadata": {
        "id": "mqWQbvdIyy2u",
        "colab_type": "code",
        "outputId": "d22110a7-58bf-408e-a254-2d9fb0662a2c",
        "colab": {
          "base_uri": "https://localhost:8080/",
          "height": 1000
        }
      },
      "source": [
        "with tf.Session() as session:\n",
        "    K.set_session(session)\n",
        "    history = model.fit(X, Y, epochs=2, batch_size=64, validation_split=0.1, shuffle=True)\n",
        "    model.save_weights('./model_balanced_LSTM.h5')"
      ],
      "execution_count": 0,
      "outputs": [
        {
          "output_type": "stream",
          "text": [
            "Train on 104513 samples, validate on 11613 samples\n",
            "Epoch 1/2\n",
            "104513/104513 [==============================] - 1269s 12ms/step - loss: 0.5674 - acc: 0.7666 - val_loss: 0.2242 - val_acc: 0.9069\n",
            "Epoch 2/2\n",
            "104513/104513 [==============================] - 1275s 12ms/step - loss: 0.2075 - acc: 0.9179 - val_loss: 0.2193 - val_acc: 0.9121\n"
          ],
          "name": "stdout"
        }
      ]
    },
    {
      "cell_type": "code",
      "metadata": {
        "id": "qExEnvuZw2g5",
        "colab_type": "code",
        "outputId": "87d052c4-f466-4519-88e3-69ff9a5b7cf8",
        "colab": {
          "base_uri": "https://localhost:8080/",
          "height": 119
        }
      },
      "source": [
        "with tf.Session() as session:\n",
        "  K.set_session(session)\n",
        "  session.run(tf.global_variables_initializer())\n",
        "  session.run(tf.tables_initializer())\n",
        "  model.load_weights('./model_balanced_LSTM.h5')  \n",
        "  predicts = model.predict(X[:1000], batch_size=32)\n",
        "\n",
        "confusion_matrix(np.argmax(Y[:1000],axis=1),np.argmax(predicts,axis=1))"
      ],
      "execution_count": 0,
      "outputs": [
        {
          "output_type": "execute_result",
          "data": {
            "text/plain": [
              "array([[179,   0,   1,   8,   0,   1],\n",
              "       [  0, 170,   0,   0,  12,   4],\n",
              "       [  2,   0, 168,   5,   0,   0],\n",
              "       [  3,   0,   2, 143,   1,  15],\n",
              "       [  0,   0,   0,   0, 136,   2],\n",
              "       [  0,   1,   0,   1,   1, 145]])"
            ]
          },
          "metadata": {
            "tags": []
          },
          "execution_count": 117
        }
      ]
    },
    {
      "cell_type": "code",
      "metadata": {
        "id": "DagvnRHWw2ey",
        "colab_type": "code",
        "outputId": "ab759abb-3d3d-46c7-f835-70461872cb75",
        "colab": {
          "base_uri": "https://localhost:8080/",
          "height": 238
        }
      },
      "source": [
        "print(classification_report(np.argmax(Y[:1000],axis=1),np.argmax(predicts,axis=1)))"
      ],
      "execution_count": 0,
      "outputs": [
        {
          "output_type": "stream",
          "text": [
            "              precision    recall  f1-score   support\n",
            "\n",
            "           0       0.97      0.95      0.96       189\n",
            "           1       0.99      0.91      0.95       186\n",
            "           2       0.98      0.96      0.97       175\n",
            "           3       0.91      0.87      0.89       164\n",
            "           4       0.91      0.99      0.94       138\n",
            "           5       0.87      0.98      0.92       148\n",
            "\n",
            "    accuracy                           0.94      1000\n",
            "   macro avg       0.94      0.94      0.94      1000\n",
            "weighted avg       0.94      0.94      0.94      1000\n",
            "\n"
          ],
          "name": "stdout"
        }
      ]
    },
    {
      "cell_type": "markdown",
      "metadata": {
        "id": "F1_Zg0yS0Owg",
        "colab_type": "text"
      },
      "source": [
        "## BERT"
      ]
    },
    {
      "cell_type": "code",
      "metadata": {
        "id": "7c_wYA6r0NRb",
        "colab_type": "code",
        "outputId": "917a09ff-ba49-4265-f96d-d4b3b3745c65",
        "colab": {
          "base_uri": "https://localhost:8080/",
          "height": 102
        }
      },
      "source": [
        "!git clone https://github.com/google-research/bert.git"
      ],
      "execution_count": 0,
      "outputs": [
        {
          "output_type": "stream",
          "text": [
            "Cloning into 'bert'...\n",
            "remote: Enumerating objects: 333, done.\u001b[K\n",
            "remote: Total 333 (delta 0), reused 0 (delta 0), pack-reused 333\u001b[K\n",
            "Receiving objects: 100% (333/333), 282.45 KiB | 13.45 MiB/s, done.\n",
            "Resolving deltas: 100% (183/183), done.\n"
          ],
          "name": "stdout"
        }
      ]
    },
    {
      "cell_type": "code",
      "metadata": {
        "id": "axqcApxP0Np1",
        "colab_type": "code",
        "colab": {}
      },
      "source": [
        "df = df.reset_index()"
      ],
      "execution_count": 0,
      "outputs": []
    },
    {
      "cell_type": "code",
      "metadata": {
        "id": "qEmkce7V0N1w",
        "colab_type": "code",
        "colab": {}
      },
      "source": [
        "from sklearn.preprocessing import LabelEncoder\n",
        "from sklearn.model_selection import train_test_split\n",
        "\n",
        "\n",
        "le = LabelEncoder()\n",
        "  \n",
        "# Creating train and dev dataframes according to BERT\n",
        "df_bert = pd.DataFrame({'user_id':df['index'],\n",
        "            'label':le.fit_transform(df['emotions']),\n",
        "            'alpha':['a']*df.shape[0],\n",
        "            'text':df['text'].replace(r'\\n',' ',regex=True)})\n",
        " \n",
        "df_bert_train, df_bert_dev = train_test_split(df_bert, test_size=0.01)\n",
        " \n",
        "# # Creating test dataframe according to BERT\n",
        "# df_test = pd.read_csv(\"data/test.csv\")\n",
        "# df_bert_test = pd.DataFrame({'User_ID':df_test['User_ID'],\n",
        "#                  'text':df_test['Description'].replace(r'\\n',' ',regex=True)})\n",
        "\n"
      ],
      "execution_count": 0,
      "outputs": []
    },
    {
      "cell_type": "code",
      "metadata": {
        "id": "PzqR9EzW9uJR",
        "colab_type": "code",
        "outputId": "d2bfeafb-903c-496f-adef-0924db975014",
        "colab": {
          "base_uri": "https://localhost:8080/",
          "height": 204
        }
      },
      "source": [
        "df_bert.head()"
      ],
      "execution_count": 0,
      "outputs": [
        {
          "output_type": "execute_result",
          "data": {
            "text/html": [
              "<div>\n",
              "<style scoped>\n",
              "    .dataframe tbody tr th:only-of-type {\n",
              "        vertical-align: middle;\n",
              "    }\n",
              "\n",
              "    .dataframe tbody tr th {\n",
              "        vertical-align: top;\n",
              "    }\n",
              "\n",
              "    .dataframe thead th {\n",
              "        text-align: right;\n",
              "    }\n",
              "</style>\n",
              "<table border=\"1\" class=\"dataframe\">\n",
              "  <thead>\n",
              "    <tr style=\"text-align: right;\">\n",
              "      <th></th>\n",
              "      <th>user_id</th>\n",
              "      <th>label</th>\n",
              "      <th>alpha</th>\n",
              "      <th>text</th>\n",
              "    </tr>\n",
              "  </thead>\n",
              "  <tbody>\n",
              "    <tr>\n",
              "      <th>0</th>\n",
              "      <td>227807</td>\n",
              "      <td>3</td>\n",
              "      <td>a</td>\n",
              "      <td>i feel that sense of fond protectiveness for s...</td>\n",
              "    </tr>\n",
              "    <tr>\n",
              "      <th>1</th>\n",
              "      <td>376691</td>\n",
              "      <td>2</td>\n",
              "      <td>a</td>\n",
              "      <td>i am number four download to feel the terrific...</td>\n",
              "    </tr>\n",
              "    <tr>\n",
              "      <th>2</th>\n",
              "      <td>391074</td>\n",
              "      <td>2</td>\n",
              "      <td>a</td>\n",
              "      <td>i feel like im slowly losing my mind and my in...</td>\n",
              "    </tr>\n",
              "    <tr>\n",
              "      <th>3</th>\n",
              "      <td>240768</td>\n",
              "      <td>2</td>\n",
              "      <td>a</td>\n",
              "      <td>i feel as if today isnt going to be completely...</td>\n",
              "    </tr>\n",
              "    <tr>\n",
              "      <th>4</th>\n",
              "      <td>75603</td>\n",
              "      <td>2</td>\n",
              "      <td>a</td>\n",
              "      <td>i hope this means that you are on the mend and...</td>\n",
              "    </tr>\n",
              "  </tbody>\n",
              "</table>\n",
              "</div>"
            ],
            "text/plain": [
              "   user_id  label alpha                                               text\n",
              "0   227807      3     a  i feel that sense of fond protectiveness for s...\n",
              "1   376691      2     a  i am number four download to feel the terrific...\n",
              "2   391074      2     a  i feel like im slowly losing my mind and my in...\n",
              "3   240768      2     a  i feel as if today isnt going to be completely...\n",
              "4    75603      2     a  i hope this means that you are on the mend and..."
            ]
          },
          "metadata": {
            "tags": []
          },
          "execution_count": 123
        }
      ]
    },
    {
      "cell_type": "code",
      "metadata": {
        "id": "IdT7_eAj97Qz",
        "colab_type": "code",
        "colab": {}
      },
      "source": [
        "!mkdir data"
      ],
      "execution_count": 0,
      "outputs": []
    },
    {
      "cell_type": "code",
      "metadata": {
        "id": "mm8lmu3k5MBn",
        "colab_type": "code",
        "colab": {}
      },
      "source": [
        "# Saving dataframes to .tsv format as required by BERT\n",
        "df_bert_train.to_csv('data/bert_train.tsv', sep='\\t', index=False, header=False)\n",
        "df_bert_dev.to_csv('data/bert_dev.tsv', sep='\\t', index=False, header=False)\n",
        "# df_bert_test.to_csv('data/test.tsv', sep='\\t', index=False, header=True)"
      ],
      "execution_count": 0,
      "outputs": []
    },
    {
      "cell_type": "code",
      "metadata": {
        "id": "cuy5y67C0N79",
        "colab_type": "code",
        "outputId": "33fbe5b2-70ed-4121-c861-019bdd967a06",
        "colab": {
          "base_uri": "https://localhost:8080/",
          "height": 130
        }
      },
      "source": [
        "!python run_classifier.py \n",
        "--task_name=cola \n",
        "--do_train=true \n",
        "--do_eval=true \n",
        "--do_predict=true \n",
        "--data_dir=./data/ \n",
        "--vocab_file=./uncased_L-12_H-768_A-12/vocab.txt \n",
        "--bert_config_file=./uncased_L-12_H-768_A-12/bert_config.json \n",
        "--init_checkpoint=./uncased_L-12_H-768_A-12/bert_model.ckpt \n",
        "--max_seq_length=400 \n",
        "--train_batch_size=64 \n",
        "--learning_rate=2e-5 \n",
        "--num_train_epochs=2.0 \n",
        "--output_dir=./bert_output/ \n",
        "--do_lower_case=False"
      ],
      "execution_count": 0,
      "outputs": [
        {
          "output_type": "error",
          "ename": "SyntaxError",
          "evalue": "ignored",
          "traceback": [
            "\u001b[0;36m  File \u001b[0;32m\"<ipython-input-128-2de043f55cf7>\"\u001b[0;36m, line \u001b[0;32m6\u001b[0m\n\u001b[0;31m    --data_dir=data/\u001b[0m\n\u001b[0m                     ^\u001b[0m\n\u001b[0;31mSyntaxError\u001b[0m\u001b[0;31m:\u001b[0m invalid syntax\n"
          ]
        }
      ]
    },
    {
      "cell_type": "code",
      "metadata": {
        "id": "yzn34Pcd0N5-",
        "colab_type": "code",
        "colab": {}
      },
      "source": [
        ""
      ],
      "execution_count": 0,
      "outputs": []
    }
  ]
}